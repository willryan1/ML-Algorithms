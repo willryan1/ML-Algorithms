{
 "cells": [
  {
   "cell_type": "code",
   "execution_count": 1,
   "metadata": {},
   "outputs": [],
   "source": [
    "import numpy as np"
   ]
  },
  {
   "cell_type": "code",
   "execution_count": 2,
   "metadata": {},
   "outputs": [],
   "source": [
    "learning_rate = 0.01\n",
    "train_X = np.array([[0, 0, 0],\n",
    "                    [0, 0, 1],\n",
    "                    [1, 0, 1],\n",
    "                    [1, 1, 1],\n",
    "                    [0, 1, 0],\n",
    "                    [1, 0, 0]])\n",
    "train_y = np.array([0, 0, 1, 1, 0, 1])\n",
    "test_X = np.array([[0, 1, 1],\n",
    "                   [1, 1, 0]])\n",
    "test_y = np.array([0, 1])"
   ]
  },
  {
   "cell_type": "code",
   "execution_count": 3,
   "metadata": {},
   "outputs": [],
   "source": [
    "weights = np.random.randn(3)"
   ]
  },
  {
   "cell_type": "code",
   "execution_count": 4,
   "metadata": {},
   "outputs": [
    {
     "name": "stdout",
     "output_type": "stream",
     "text": [
      "9.749073791888774e-05\n",
      "[ 9.93465078e-01 -7.02101501e-04  7.08087542e-03]\n",
      "[0.00637877 0.99276298]\n"
     ]
    }
   ],
   "source": [
    "total_error = 100\n",
    "while total_error > .0001:\n",
    "    total_error = 0\n",
    "    for i in range(len(train_X)):\n",
    "        train_value = train_X[i]\n",
    "        target = train_y[i]\n",
    "\n",
    "        prediction = train_value.dot(weights)\n",
    "        error = (prediction - target) ** 2\n",
    "        total_error += error\n",
    "\n",
    "        delta = 2 * (prediction - target)\n",
    "        weights -= learning_rate * (train_value * delta)\n",
    "\n",
    "print(total_error)\n",
    "print(weights)\n",
    "print(test_X.dot(weights))"
   ]
  },
  {
   "cell_type": "code",
   "execution_count": null,
   "metadata": {},
   "outputs": [],
   "source": []
  }
 ],
 "metadata": {
  "kernelspec": {
   "display_name": "Python 3",
   "language": "python",
   "name": "python3"
  },
  "language_info": {
   "codemirror_mode": {
    "name": "ipython",
    "version": 3
   },
   "file_extension": ".py",
   "mimetype": "text/x-python",
   "name": "python",
   "nbconvert_exporter": "python",
   "pygments_lexer": "ipython3",
   "version": "3.7.0"
  }
 },
 "nbformat": 4,
 "nbformat_minor": 2
}
