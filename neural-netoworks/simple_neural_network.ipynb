{
 "cells": [
  {
   "cell_type": "code",
   "execution_count": 1,
   "metadata": {},
   "outputs": [],
   "source": [
    "import numpy as np"
   ]
  },
  {
   "cell_type": "code",
   "execution_count": 2,
   "metadata": {},
   "outputs": [],
   "source": [
    "def relu(x, deriv=False):\n",
    "    if deriv: return 1 * (x > 0)\n",
    "    return np.maximum(x, 0)\n",
    "\n",
    "streetlight = np.array([[1, 0, 1],\n",
    "                        [0, 1, 1],\n",
    "                        [0, 0, 1],\n",
    "                        [1, 1, 1]])\n",
    "results = np.array([1, 1, 0, 0])\n",
    "\n",
    "learning_rate = 0.1\n",
    "hidden_nodes = 4\n",
    "\n",
    "weights_l1 = np.random.randn(3, hidden_nodes)\n",
    "weights_l2 = np.random.randn(hidden_nodes, 1)"
   ]
  },
  {
   "cell_type": "code",
   "execution_count": 3,
   "metadata": {},
   "outputs": [
    {
     "name": "stdout",
     "output_type": "stream",
     "text": [
      "Error: [[2.67023585]]\n",
      "[[-1.05525932 -1.15783602  0.33991125  1.85542959]\n",
      " [ 1.29224736 -0.80535418  0.1115619  -0.57522552]\n",
      " [-0.84288455  1.0939299  -0.719717   -0.20975063]]\n",
      "[[ 0.75503052]\n",
      " [-0.24584093]\n",
      " [ 0.49893299]\n",
      " [ 0.29902475]]\n",
      "Error: [[0.00225163]]\n",
      "[[-1.05525932 -1.15783602  0.33991125  1.6418696 ]\n",
      " [ 1.57837532 -0.86607891  0.1115619  -1.19007375]\n",
      " [-0.55675659  1.01573659 -0.719717   -0.42331062]]\n",
      "[[ 0.97914707]\n",
      " [-0.00137827]\n",
      " [ 0.49893299]\n",
      " [ 0.80166149]]\n",
      "Error: [[5.6968222e-08]]\n",
      "[[-1.05525932 -1.15783602  0.33991125  1.63793003]\n",
      " [ 1.57827223 -0.86607882  0.1115619  -1.21054876]\n",
      " [-0.55685968  1.01573562 -0.719717   -0.42725019]]\n",
      "[[ 9.79039513e-01]\n",
      " [-1.42062390e-05]\n",
      " [ 4.98932993e-01]\n",
      " [ 8.25886465e-01]]\n",
      "Error: [[1.184773e-12]]\n",
      "[[-1.05525932 -1.15783602  0.33991125  1.63791337]\n",
      " [ 1.57827117 -0.86607882  0.1115619  -1.21064594]\n",
      " [-0.55686074  1.01573562 -0.719717   -0.42726684]]\n",
      "[[ 9.79038405e-01]\n",
      " [-1.46429515e-07]\n",
      " [ 4.98932993e-01]\n",
      " [ 8.26004495e-01]]\n",
      "Error: [[2.70573301e-17]]\n",
      "[[-1.05525932 -1.15783602  0.33991125  1.6379133 ]\n",
      " [ 1.57827116 -0.86607882  0.1115619  -1.21064638]\n",
      " [-0.55686075  1.01573562 -0.719717   -0.42726692]]\n",
      "[[ 9.79038393e-01]\n",
      " [-1.50930901e-09]\n",
      " [ 4.98932993e-01]\n",
      " [ 8.26005027e-01]]\n",
      "[[1.29504856e-11]]\n"
     ]
    }
   ],
   "source": [
    "for j in range(100):\n",
    "    total_layer_2_error = 0\n",
    "    for i in range(len(streetlight)):\n",
    "        layer_0 = streetlight[i:i+1]\n",
    "        layer_1 = relu(np.dot(layer_0, weights_l1))\n",
    "        layer_2 = np.dot(layer_1, weights_l2)\n",
    "        layer_2_error = (layer_2 - results[i:i+1]) ** 2\n",
    "        total_layer_2_error += layer_2_error\n",
    "        layer_2_delta = 2 * (layer_2 - results[i:i+1])\n",
    "        layer_1_delta = layer_2_delta.dot(weights_l2.T) * relu(layer_1, deriv=True)\n",
    "\n",
    "        weights_l1 -= learning_rate * layer_0.T.dot(layer_1_delta)\n",
    "        weights_l2 -= learning_rate * layer_1.T.dot(layer_2_delta)\n",
    "    if j % 20 == 0:\n",
    "        print(\"Error: {}\".format(total_layer_2_error))\n",
    "        print(weights_l1)\n",
    "        print(weights_l2)\n",
    "\n",
    "layer_0 = [[1, 1, 1]]\n",
    "layer_1 = relu(np.dot(layer_0, weights_l1))\n",
    "layer_2 = np.dot(layer_1, weights_l2)\n",
    "print(layer_2)"
   ]
  },
  {
   "cell_type": "code",
   "execution_count": null,
   "metadata": {},
   "outputs": [],
   "source": []
  }
 ],
 "metadata": {
  "kernelspec": {
   "display_name": "Python 3",
   "language": "python",
   "name": "python3"
  },
  "language_info": {
   "codemirror_mode": {
    "name": "ipython",
    "version": 3
   },
   "file_extension": ".py",
   "mimetype": "text/x-python",
   "name": "python",
   "nbconvert_exporter": "python",
   "pygments_lexer": "ipython3",
   "version": "3.7.0"
  }
 },
 "nbformat": 4,
 "nbformat_minor": 2
}
