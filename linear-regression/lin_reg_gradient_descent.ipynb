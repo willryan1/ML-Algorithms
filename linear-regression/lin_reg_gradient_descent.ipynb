{
 "cells": [
  {
   "cell_type": "code",
   "execution_count": 243,
   "metadata": {},
   "outputs": [
    {
     "data": {
      "text/plain": [
       "'The goal of this notebook is to implement linear regression using gradient descent'"
      ]
     },
     "execution_count": 243,
     "metadata": {},
     "output_type": "execute_result"
    }
   ],
   "source": [
    "\"\"\"The goal of this notebook is to implement linear regression using gradient descent\"\"\""
   ]
  },
  {
   "cell_type": "code",
   "execution_count": 244,
   "metadata": {},
   "outputs": [],
   "source": [
    "import numpy as np\n",
    "import matplotlib.pyplot as plt"
   ]
  },
  {
   "cell_type": "code",
   "execution_count": 252,
   "metadata": {},
   "outputs": [],
   "source": [
    "def gradient_descent(x, y):\n",
    "    \"\"\"Linear regression model:\n",
    "    h(x) = b0 + b1x\n",
    "    Cost Function: j(b0, b1) = 1/2m ∑(h(xi) - yi)^2\n",
    "    α = learning rate\n",
    "    \n",
    "    b0 partial derivative: 1/m ∑(h(xi) - yi)\n",
    "    b1 partial derivative: 1/m ∑(h(xi) - yi) * xi\n",
    "    \n",
    "    Algorithm:\n",
    "    b0 := b0 - α 1/m ∑(h(xi) - yi)\n",
    "    b1 := b1 - α 1/m ∑(h(xi) - yi) * xi\n",
    "    \"\"\"\n",
    "    # Ensures the values are numpy arrays\n",
    "    try:\n",
    "        x = np.asarray(x)\n",
    "        y = np.asarray(y)\n",
    "    except Exception:\n",
    "        print(\"You must enter numpy arrays or valid lists\")\n",
    "    if len(x) != len(y):\n",
    "        print(\"Length of arrays must be equal. Program Stopping.\")\n",
    "        sys.exit(1)\n",
    "    \n",
    "    # Setting Learning Rate and Epochs(amount of training iterations)\n",
    "    alpha = 0.001\n",
    "    epochs = 1000\n",
    "    \n",
    "    # Initialize the coefficients\n",
    "    b0 = np.random.randn()\n",
    "    b1 = np.random.randn()\n",
    "    \n",
    "    costs = [0] * epochs\n",
    "    m = len(x)\n",
    "    \n",
    "    for e in range(epochs):\n",
    "        h = b0 + b1*x # Set h to the predicted value\n",
    "        costs[e] = (1/2*m) * sum((h - y)**2)\n",
    "        # Calculate the partial derivatives\n",
    "        d_b0 = (1/m) * sum(h - y)\n",
    "        d_b1 = (1/m) * sum((h - y) * x)\n",
    "        # Update coefficients\n",
    "        b0 = b0 - alpha * d_b0\n",
    "        b1 = b1 - alpha * d_b1\n",
    "    plt.plot(costs)\n",
    "    return b0, b1"
   ]
  },
  {
   "cell_type": "code",
   "execution_count": 253,
   "metadata": {},
   "outputs": [],
   "source": [
    "def plot_regression_line(x, y, b):\n",
    "    \"\"\"Plot regression line from regression coefficients\"\"\"\n",
    "    # Ensures the values are numpy arrays\n",
    "    try:\n",
    "        x = np.asarray(x)\n",
    "        y = np.asarray(y)\n",
    "    except Exception:\n",
    "        print(\"You must enter numpy arrays or valid lists\")\n",
    "    if len(x) != len(y):\n",
    "        print(\"Length of arrays must be equal. Program Stopping.\")\n",
    "        sys.exit(1)\n",
    "\n",
    "    # Plot data\n",
    "\n",
    "    plt.scatter(x, y, color = \"blue\")\n",
    "\n",
    "    regression_line = b[0] + (b[1] * x)\n",
    "\n",
    "    plt.plot(x, regression_line, color = \"red\")\n",
    "\n",
    "    plt.xlabel(\"x\")\n",
    "    plt.ylabel(\"y\")\n",
    "\n",
    "    plt.show()"
   ]
  },
  {
   "cell_type": "code",
   "execution_count": 256,
   "metadata": {},
   "outputs": [
    {
     "name": "stdout",
     "output_type": "stream",
     "text": [
      "(0.9116951444643772, 5.01861441550541)\n"
     ]
    },
    {
     "data": {
      "image/png": "[encoded data removed]",
      "text/plain": [
       "<Figure size 432x288 with 1 Axes>"
      ]
     },
     "metadata": {
      "needs_background": "light"
     },
     "output_type": "display_data"
    }
   ],
   "source": [
    "x = np.array([17,13,12,15,16,14,16,16,18,19])\n",
    "y = np.array([94,73,59,80,93,85,66,79,77,91])\n",
    "\n",
    "b = gradient_descent(x, y)\n",
    "print(b)"
   ]
  },
  {
   "cell_type": "code",
   "execution_count": 257,
   "metadata": {},
   "outputs": [
    {
     "data": {
      "image/png": "[encoded data removed]",
      "text/plain": [
       "<Figure size 432x288 with 1 Axes>"
      ]
     },
     "metadata": {
      "needs_background": "light"
     },
     "output_type": "display_data"
    }
   ],
   "source": [
    "plot_regression_line(x,y,b)"
   ]
  },
  {
   "cell_type": "code",
   "execution_count": null,
   "metadata": {},
   "outputs": [],
   "source": []
  }
 ],
 "metadata": {
  "kernelspec": {
   "display_name": "Python 3",
   "language": "python",
   "name": "python3"
  },
  "language_info": {
   "codemirror_mode": {
    "name": "ipython",
    "version": 3
   },
   "file_extension": ".py",
   "mimetype": "text/x-python",
   "name": "python",
   "nbconvert_exporter": "python",
   "pygments_lexer": "ipython3",
   "version": "3.7.0"
  }
 },
 "nbformat": 4,
 "nbformat_minor": 2
}
