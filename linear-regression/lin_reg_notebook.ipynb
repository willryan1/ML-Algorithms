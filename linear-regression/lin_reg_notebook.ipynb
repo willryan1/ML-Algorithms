{
 "cells": [
  {
   "cell_type": "code",
   "execution_count": 2,
   "metadata": {},
   "outputs": [],
   "source": [
    "import numpy as np\n",
    "import sys\n",
    "import matplotlib.pyplot as plt"
   ]
  },
  {
   "cell_type": "code",
   "execution_count": 4,
   "metadata": {},
   "outputs": [],
   "source": [
    "def least_squares(x, y):\n",
    "    \"\"\"Finds the regression coefficients\n",
    "    \n",
    "    Finds the correlation coefficient r then uses the equations:\n",
    "    b1 = r(sy/sx)\n",
    "    b0 = y_bar - b1*x_bar\n",
    "    \"\"\"\n",
    "    # Ensures the values are numpy arrays\n",
    "    try:\n",
    "        x = np.asarray(x)\n",
    "        y = np.asarray(y)\n",
    "    except Exception:\n",
    "        print(\"You must enter numpy arrays or valid lists\")\n",
    "    if len(x) != len(y):\n",
    "        print(\"Length of arrays must be equal. Program Stopping.\")\n",
    "        sys.exit(1)\n",
    "\n",
    "    # Calculate the regression coefficient r\n",
    "\n",
    "    x_minus_xbar, y_minus_ybar = x-np.mean(x), y-np.mean(y)\n",
    "    r = np.sum(x_minus_xbar * y_minus_ybar) / np.sqrt(np.sum(x_minus_xbar ** 2) * np.sum(y_minus_ybar ** 2))\n",
    "\n",
    "    # Calculate the coefficients\n",
    "\n",
    "    b1 = r * (np.std(y) / np.std(x))\n",
    "\n",
    "    b0 = np.mean(y) - b1 * np.mean(x)\n",
    "\n",
    "    return b0, b1"
   ]
  },
  {
   "cell_type": "code",
   "execution_count": 5,
   "metadata": {},
   "outputs": [],
   "source": [
    "def r_squared(x, y, b):\n",
    "    \"\"\"Finds the r_squared value using the calculated regression coefficients\n",
    "    \n",
    "    r_sq = ∑(y - y_hat)^2 / ∑(y - y_bar)^2\n",
    "    \"\"\"\n",
    "    # Ensures the values are numpy arrays\n",
    "    try:\n",
    "        x = np.asarray(x)\n",
    "        y = np.asarray(y)\n",
    "    except Exception:\n",
    "        print(\"You must enter numpy arrays or valid lists\")\n",
    "    if len(x) != len(y):\n",
    "        print(\"Length of arrays must be equal. Program Stopping.\")\n",
    "        sys.exit(1)\n",
    "\n",
    "    # Calculate r_sq\n",
    "\n",
    "    y_minus_ybar_sq = (y-np.mean(y)) ** 2\n",
    "    y_hat_minus_y_bar_sq = ((b[0] + b[1] * x) - np.mean(y)) ** 2\n",
    "    r_sq = sum(y_hat_minus_y_bar_sq) / sum(y_minus_ybar_sq)\n",
    "    return r_sq"
   ]
  },
  {
   "cell_type": "code",
   "execution_count": 6,
   "metadata": {},
   "outputs": [],
   "source": [
    "def plot_regression_line(x, y, b):\n",
    "    \"\"\"Plot regression line from regression coefficients\"\"\"\n",
    "    # Ensures the values are numpy arrays\n",
    "    try:\n",
    "        x = np.asarray(x)\n",
    "        y = np.asarray(y)\n",
    "    except Exception:\n",
    "        print(\"You must enter numpy arrays or valid lists\")\n",
    "    if len(x) != len(y):\n",
    "        print(\"Length of arrays must be equal. Program Stopping.\")\n",
    "        sys.exit(1)\n",
    "\n",
    "    # Plot data\n",
    "\n",
    "    plt.scatter(x, y, color = \"blue\")\n",
    "\n",
    "    regression_line = b[0] + (b[1] * x)\n",
    "\n",
    "    plt.plot(x, regression_line, color = \"red\")\n",
    "\n",
    "    plt.xlabel(\"x\")\n",
    "    plt.ylabel(\"y\")\n",
    "\n",
    "    plt.show()"
   ]
  },
  {
   "cell_type": "code",
   "execution_count": 8,
   "metadata": {},
   "outputs": [
    {
     "name": "stdout",
     "output_type": "stream",
     "text": [
      "Regression Coefficients: b0 = 30.10377358490566, b1 = 3.179245283018868\n",
      "Coefficient of Determination = 0.35532896455595986\n"
     ]
    },
    {
     "data": {
      "image/png": "[encoded data removed]",
      "text/plain": [
       "<Figure size 432x288 with 1 Axes>"
      ]
     },
     "metadata": {
      "needs_background": "light"
     },
     "output_type": "display_data"
    }
   ],
   "source": [
    "x = np.array([17,13,12,15,16,14,16,16,18,19])\n",
    "y = np.array([94,73,59,80,93,85,66,79,77,91])\n",
    "\n",
    "b = least_squares(x, y)\n",
    "r_sq = r_squared(x,y,b)\n",
    "print(\"Regression Coefficients: b0 = {}, b1 = {}\\nCoefficient of Determination = {}\".format(b[0], b[1], r_sq))\n",
    "plot_regression_line(x, y, b)"
   ]
  },
  {
   "cell_type": "code",
   "execution_count": null,
   "metadata": {},
   "outputs": [],
   "source": []
  }
 ],
 "metadata": {
  "kernelspec": {
   "display_name": "Python 3",
   "language": "python",
   "name": "python3"
  },
  "language_info": {
   "codemirror_mode": {
    "name": "ipython",
    "version": 3
   },
   "file_extension": ".py",
   "mimetype": "text/x-python",
   "name": "python",
   "nbconvert_exporter": "python",
   "pygments_lexer": "ipython3",
   "version": "3.7.0"
  }
 },
 "nbformat": 4,
 "nbformat_minor": 4
}
